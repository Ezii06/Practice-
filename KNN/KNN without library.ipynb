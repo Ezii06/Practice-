{
 "cells": [
  {
   "cell_type": "code",
   "execution_count": null,
   "id": "28fc2afd",
   "metadata": {},
   "outputs": [],
   "source": [
    "def euclidean_distance(point1, point2):\n",
    "    squared_distance = sum((a - b)**2 for a, b in zip(point1, point2))\n",
    "    return squared_distance ** 0.5\n",
    "\n",
    "def knn_predict(k, X, Y, target):\n",
    "    distances = [(euclidean_distance(target, x), y) for x, y in zip(X, Y)]\n",
    "    distances.sort()  # Sort distances in ascending order\n",
    "    \n",
    "    # Select the k-nearest neighbors\n",
    "    k_nearest_neighbors = distances[:k]\n",
    "    \n",
    "    # Count the occurrences of each label in the neighbors\n",
    "    label_counts = {}\n",
    "    for distance, label in k_nearest_neighbors:\n",
    "        label_counts[label] = label_counts.get(label, 0) + 1\n",
    "    \n",
    "    # Find the label with the maximum count (majority voting)\n",
    "    prediction = max(label_counts, key=label_counts.get)\n",
    "    \n",
    "    return prediction\n",
    "\n",
    "# Given data\n",
    "X = [[2, 3], [4, 2], [3, 5], [6, 1], [5, 3.5]]\n",
    "Y = ['a', 'b', 'a', 'b', 'a']\n",
    "target = [4.5, 2.5]\n",
    "k_value = 3\n",
    "\n",
    "# Predict using KNN\n",
    "prediction = knn_predict(k_value, X, Y, target)\n",
    "\n",
    "print(\"Predicted Class:\", prediction)"
   ]
  }
 ],
 "metadata": {
  "kernelspec": {
   "display_name": "Python 3 (ipykernel)",
   "language": "python",
   "name": "python3"
  },
  "language_info": {
   "codemirror_mode": {
    "name": "ipython",
    "version": 3
   },
   "file_extension": ".py",
   "mimetype": "text/x-python",
   "name": "python",
   "nbconvert_exporter": "python",
   "pygments_lexer": "ipython3",
   "version": "3.11.4"
  }
 },
 "nbformat": 4,
 "nbformat_minor": 5
}
